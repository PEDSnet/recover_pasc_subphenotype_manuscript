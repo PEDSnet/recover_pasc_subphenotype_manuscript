{
 "cells": [
  {
   "cell_type": "code",
   "execution_count": null,
   "id": "ebb7ed4e",
   "metadata": {
    "tags": []
   },
   "outputs": [],
   "source": [
    "#import ce_functions\n",
    "import os\n",
    "import csv\n",
    "import sys\n",
    "import time\n",
    "import pandas as pd\n",
    "import numpy as np\n",
    "import sklearn\n",
    "import matplotlib.pyplot as plt\n",
    "import gensim\n",
    "from sklearn import cluster\n",
    "from sklearn import metrics\n",
    "import random\n",
    "#import hdbscan\n",
    "import psycopg2\n",
    "from numpy import dot\n",
    "from numpy.linalg import norm\n",
    "from gensim.models import Word2Vec\n",
    "import multiprocessing\n",
    "import logging  # Setting up the loggings to monitor gensim\n",
    "logging.basicConfig(format=\"%(levelname)s - %(asctime)s: %(message)s\", datefmt= '%H:%M:%S', level=logging.INFO)\n",
    "from gensim.models.doc2vec import Doc2Vec\n",
    "import math\n",
    "#import umap\n",
    "from sklearn.decomposition import PCA\n",
    "from sklearn.metrics.pairwise import cosine_similarity # <<< this isn't being used!\n",
    "from typing import List\n",
    "import seaborn as sns\n",
    "# import libraries and load english language model and word vector model\n",
    "#from __future__ import print_function\n",
    "import time\n",
    "#import umap.umap_ as umap\n",
    "import hdbscan\n",
    "import sqlalchemy\n",
    "from sqlalchemy import create_engine, text\n",
    "from sklearn.model_selection import ParameterGrid"
   ]
  },
  {
   "cell_type": "code",
   "execution_count": null,
   "id": "c06b2033-e2a6-4057-b4e8-ce47de7cd448",
   "metadata": {
    "tags": []
   },
   "outputs": [],
   "source": [
    "run ce_functions.py"
   ]
  },
  {
   "cell_type": "code",
   "execution_count": null,
   "id": "3777dc9a-b863-4120-8fd6-3f7a7ae1aeed",
   "metadata": {
    "tags": []
   },
   "outputs": [],
   "source": [
    "engine = sqlalchemy.create_engine('postgresql://USERNAME:ADDRESS:PORT/DATABSE')\n",
    "\n",
    "model=Word2Vec.load('./model_all_sites_aws_320_neg')\n",
    "vocab=list(model.wv.key_to_index.keys())\n",
    "normed_vectors=model.wv.get_normed_vectors()\n",
    "normed_vector_df=pd.DataFrame(normed_vectors, index=vocab)\n",
    "\n",
    "query=\"SELECT * FROM concept_embeddings.cp_cohort_sentences_aws_v2_train_pasc_78;\"\n",
    "rules_based_cohort_sentences_temp = pd.read_sql_query(sql=text(query), con=engine.connect())\n",
    "\n",
    "\n",
    "rules_based_sentence_vec_df=make_sentence_vec_df(rules_based_cohort_sentences_temp, model)"
   ]
  },
  {
   "cell_type": "code",
   "execution_count": null,
   "id": "75190824-284b-4991-86d8-098cdf16d307",
   "metadata": {
    "tags": []
   },
   "outputs": [],
   "source": [
    "param_grid = [\n",
    "  {'n_neighbors': np.arange(5, 505, 5),\n",
    "  'min_percent': [0.02], \n",
    "   'min_samples': [1]}\n",
    " ]"
   ]
  },
  {
   "cell_type": "code",
   "execution_count": null,
   "id": "0c122994-a7f8-4e38-8b6c-2aa5e5835238",
   "metadata": {
    "tags": []
   },
   "outputs": [],
   "source": [
    "output_df_labels=rules_based_sentence_vec_df[0][[\"person_id\"]].copy()\n",
    "output_df_labels_new=rules_based_sentence_vec_df[0][[\"person_id\"]].copy()\n",
    "for params in ParameterGrid(param_grid):\n",
    "    print(params)\n",
    "    labels_list=make_labels(rules_based_sentence_vec_df[0], min_percent=params['min_percent'], \n",
    "                        n_neighbors=params['n_neighbors'], min_samples=params['min_samples'], n_components=3)\n",
    "    colname='min_percent: '+str(params['min_percent'])+', n_neighbors: '+str(params['n_neighbors'])+', min_samples: '+str(params['min_samples'])\n",
    "    output_df_labels[colname]=labels_list[0]\n",
    "    output_df_labels_new[colname]=labels_list[1]"
   ]
  },
  {
   "cell_type": "code",
   "execution_count": null,
   "id": "b7544107-d162-4c3d-a4b9-20ea45864da4",
   "metadata": {},
   "outputs": [],
   "source": [
    "output_df_labels.to_sql(name=\"\".join( [\"grid_cluster_labels\", \"_pasc_78\"]), con=engine, if_exists='replace', schema='concept_embeddings')"
   ]
  },
  {
   "cell_type": "code",
   "execution_count": null,
   "id": "e1c12e9a-1fb6-48c8-ad15-432495049fe6",
   "metadata": {},
   "outputs": [],
   "source": [
    "output_df_labels_new.to_sql(name=\"\".join( [\"grid_cluster_labels_new\", \"_pasc_78\"]), con=engine, if_exists='replace', schema='concept_embeddings')"
   ]
  },
  {
   "cell_type": "markdown",
   "id": "d9320e00-8e22-49f0-a51e-3acc0894fbd6",
   "metadata": {
    "tags": []
   },
   "source": [
    "## Testing"
   ]
  },
  {
   "cell_type": "code",
   "execution_count": null,
   "id": "395486a0-ec0d-44e9-8101-931f6d4773fc",
   "metadata": {
    "tags": []
   },
   "outputs": [],
   "source": [
    "embedded_df=make_embedded_df(rules_based_sentence_vec_df[0], min_percent=0.02, n_neighbors=15, min_samples=1)\n",
    "\n",
    "embedded_df.to_sql(name=\"\".join( [\"cp_embedded_df_320_opt_15\", \"_pasc_78\"]), con=engine, if_exists='replace', schema='concept_embeddings')"
   ]
  },
  {
   "cell_type": "code",
   "execution_count": null,
   "id": "49e328e7-9db0-4554-8574-64e777619c5a",
   "metadata": {
    "tags": []
   },
   "outputs": [],
   "source": [
    "embedded_df=make_embedded_df(rules_based_sentence_vec_df[0], min_percent=0.02, n_neighbors=85, min_samples=1)\n",
    "\n",
    "embedded_df.to_sql(name=\"\".join( [\"cp_embedded_df_320_opt_85\", \"_pasc_78\"]), con=engine, if_exists='replace', schema='concept_embeddings')"
   ]
  },
  {
   "cell_type": "code",
   "execution_count": null,
   "id": "6d120551-74a6-4774-8109-dde30079c461",
   "metadata": {
    "tags": []
   },
   "outputs": [],
   "source": [
    "embedded_df=make_embedded_df(rules_based_sentence_vec_df[0], min_percent=0.02, n_neighbors=95, min_samples=1)\n",
    "\n",
    "embedded_df.to_sql(name=\"\".join( [\"cp_embedded_df_320_opt_95\", \"_pasc_78\"]), con=engine, if_exists='replace', schema='concept_embeddings')"
   ]
  },
  {
   "cell_type": "code",
   "execution_count": null,
   "id": "7c769f54-9bb1-4023-9440-507d85444e63",
   "metadata": {
    "tags": []
   },
   "outputs": [],
   "source": [
    "embedded_df=make_embedded_df(rules_based_sentence_vec_df[0], min_percent=0.02, n_neighbors=300, min_samples=1)\n",
    "\n",
    "embedded_df.to_sql(name=\"\".join( [\"cp_embedded_df_320_opt_300\", \"_pasc_78\"]), con=engine, if_exists='replace', schema='concept_embeddings')"
   ]
  }
 ],
 "metadata": {
  "kernelspec": {
   "display_name": "Python 3 (ipykernel)",
   "language": "python",
   "name": "python3"
  },
  "language_info": {
   "codemirror_mode": {
    "name": "ipython",
    "version": 3
   },
   "file_extension": ".py",
   "mimetype": "text/x-python",
   "name": "python",
   "nbconvert_exporter": "python",
   "pygments_lexer": "ipython3",
   "version": "3.9.12"
  }
 },
 "nbformat": 4,
 "nbformat_minor": 5
}
