{
 "cells": [
  {
   "cell_type": "code",
   "execution_count": null,
   "id": "f4ccb65a",
   "metadata": {
    "tags": []
   },
   "outputs": [],
   "source": [
    "import os\n",
    "import csv\n",
    "from IPython.display import display\n",
    "import sys\n",
    "import time\n",
    "import pandas as pd\n",
    "import numpy as np\n",
    "import sklearn\n",
    "import matplotlib.pyplot as plt\n",
    "import gensim\n",
    "import random\n",
    "import psycopg2\n",
    "from gensim.models import Word2Vec\n",
    "import multiprocessing\n",
    "import logging  # Setting up the loggings to monitor gensim\n",
    "logging.basicConfig(format=\"%(levelname)s - %(asctime)s: %(message)s\", datefmt= '%H:%M:%S', level=logging.INFO)\n",
    "import seaborn as sns\n"
   ]
  },
  {
   "cell_type": "code",
   "execution_count": null,
   "id": "3e72491c-17ed-4d12-927d-91bfd0917c4d",
   "metadata": {
    "tags": []
   },
   "outputs": [],
   "source": [
    "def fetch_db_rows():\n",
    "    # Named cursor => server side cursor. Without this, _all_ data from the\n",
    "    # query will be fetched into memory, which defeats the purpose of streaming\n",
    "    query=\"SELECT codes FROM concept_embeddings.codes_by_site_aws_pasc_78\"\n",
    "    with \\\n",
    "            psycopg2.connect(user=\"USERNAME\",\n",
    "                                  password=\"PASSWORD\",\n",
    "                                  host=\"HOST\",\n",
    "                                  port=\"5432\",\n",
    "                                  database=\"DATABASE\") as conn, \\\n",
    "            conn.cursor(name='get_rows') as cur:\n",
    "        cur.itersize = 5\n",
    "        cur.arraysize = 5\n",
    "        cur.execute(query)\n",
    "\n",
    "        while True:\n",
    "            rows_temp = cur.fetchmany()\n",
    "            rows=[x[0].split(\" \") for x in rows_temp]     \n",
    "#            rows=[list(set(x)) for x in rows_temp2]\n",
    "            for row in rows:\n",
    "#                if (len(row)>1):\n",
    "                    yield random.sample(row, len(row))\n",
    "            if not rows:\n",
    "                break\n",
    "\n",
    "class SentencesIterator():\n",
    "    def __init__(self, generator_function):\n",
    "        self.generator_function = generator_function\n",
    "        self.generator = self.generator_function()\n",
    "\n",
    "    def __iter__(self):\n",
    "        # reset the generator\n",
    "        self.generator = self.generator_function()\n",
    "        return self\n",
    "\n",
    "    def __next__(self):\n",
    "        result = next(self.generator)\n",
    "        if result is None:\n",
    "            raise StopIteration\n",
    "        else:\n",
    "            return result"
   ]
  },
  {
   "cell_type": "code",
   "execution_count": null,
   "id": "5e0f7f6d",
   "metadata": {
    "tags": []
   },
   "outputs": [],
   "source": [
    "sentences = SentencesIterator(fetch_db_rows)"
   ]
  },
  {
   "cell_type": "code",
   "execution_count": null,
   "id": "df8d6cf3",
   "metadata": {
    "tags": []
   },
   "outputs": [],
   "source": [
    "model = Word2Vec(vector_size=200, window=5, min_count=3, workers=12, sg=1, negative=5, hs=0)\n",
    "#model.save(\"word2vec.model\")"
   ]
  },
  {
   "cell_type": "code",
   "execution_count": null,
   "id": "3d55e2bc",
   "metadata": {
    "scrolled": true,
    "tags": []
   },
   "outputs": [],
   "source": [
    "model.build_vocab(sentences, progress_per=1000000)"
   ]
  },
  {
   "cell_type": "code",
   "execution_count": null,
   "id": "78f1eb1a",
   "metadata": {
    "tags": []
   },
   "outputs": [],
   "source": [
    "model.corpus_count"
   ]
  },
  {
   "cell_type": "code",
   "execution_count": null,
   "id": "fcbc1ce0",
   "metadata": {
    "tags": []
   },
   "outputs": [],
   "source": [
    "sentences = SentencesIterator(fetch_db_rows)"
   ]
  },
  {
   "cell_type": "code",
   "execution_count": null,
   "id": "930bbfca",
   "metadata": {
    "scrolled": true,
    "tags": []
   },
   "outputs": [],
   "source": [
    "model.train(sentences,total_examples=model.corpus_count, epochs=15)"
   ]
  },
  {
   "cell_type": "code",
   "execution_count": null,
   "id": "d981a31a",
   "metadata": {
    "tags": []
   },
   "outputs": [],
   "source": [
    "model.save('./model_all_sites_aws_320_neg')"
   ]
  }
 ],
 "metadata": {
  "kernelspec": {
   "display_name": "Python 3 (ipykernel)",
   "language": "python",
   "name": "python3"
  },
  "language_info": {
   "codemirror_mode": {
    "name": "ipython",
    "version": 3
   },
   "file_extension": ".py",
   "mimetype": "text/x-python",
   "name": "python",
   "nbconvert_exporter": "python",
   "pygments_lexer": "ipython3",
   "version": "3.9.12"
  }
 },
 "nbformat": 4,
 "nbformat_minor": 5
}
